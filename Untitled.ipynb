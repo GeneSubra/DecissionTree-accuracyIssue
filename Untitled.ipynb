{
 "cells": [
  {
   "cell_type": "code",
   "execution_count": 98,
   "metadata": {},
   "outputs": [],
   "source": [
    "import numpy as np\n",
    "import pandas as pd\n",
    "#from sklearn.cross_validation import train_test_split, use below instead\n",
    "from sklearn.model_selection import train_test_split\n",
    "from sklearn.tree import DecisionTreeClassifier\n",
    "from sklearn.tree import DecisionTreeRegressor\n",
    "from sklearn.metrics import accuracy_score\n",
    "from sklearn import tree\n",
    "from sqlalchemy import create_engine\n",
    "import seaborn as sns\n",
    "from sklearn.metrics import accuracy_score\n",
    "# Display preferences.\n",
    "%matplotlib inline\n",
    "pd.options.display.float_format = '{:.3f}'.format\n",
    "\n",
    "import warnings\n",
    "warnings.filterwarnings(action=\"ignore\")"
   ]
  },
  {
   "cell_type": "code",
   "execution_count": 99,
   "metadata": {},
   "outputs": [],
   "source": [
    "postgres_user = 'dsbc_student'\n",
    "postgres_pw = '7*.8G9QH21'\n",
    "postgres_host = '142.93.121.174'\n",
    "postgres_port = '5432'\n",
    "postgres_db = 'medicalcosts'\n",
    "\n",
    "engine = create_engine('postgresql://{}:{}@{}:{}/{}'.format(\n",
    "    postgres_user, postgres_pw, postgres_host, postgres_port, postgres_db))\n",
    "\n",
    "md_df = pd.read_sql_query('select * from medicalcosts',con=engine)\n",
    "\n",
    "# no need for an open connection, as we're only doing a single query\n",
    "engine.dispose()"
   ]
  },
  {
   "cell_type": "code",
   "execution_count": 100,
   "metadata": {},
   "outputs": [
    {
     "data": {
      "text/html": [
       "<div>\n",
       "<style scoped>\n",
       "    .dataframe tbody tr th:only-of-type {\n",
       "        vertical-align: middle;\n",
       "    }\n",
       "\n",
       "    .dataframe tbody tr th {\n",
       "        vertical-align: top;\n",
       "    }\n",
       "\n",
       "    .dataframe thead th {\n",
       "        text-align: right;\n",
       "    }\n",
       "</style>\n",
       "<table border=\"1\" class=\"dataframe\">\n",
       "  <thead>\n",
       "    <tr style=\"text-align: right;\">\n",
       "      <th></th>\n",
       "      <th>age</th>\n",
       "      <th>sex</th>\n",
       "      <th>bmi</th>\n",
       "      <th>children</th>\n",
       "      <th>smoker</th>\n",
       "      <th>region</th>\n",
       "      <th>charges</th>\n",
       "    </tr>\n",
       "  </thead>\n",
       "  <tbody>\n",
       "    <tr>\n",
       "      <th>0</th>\n",
       "      <td>19</td>\n",
       "      <td>female</td>\n",
       "      <td>27.900</td>\n",
       "      <td>0</td>\n",
       "      <td>yes</td>\n",
       "      <td>southwest</td>\n",
       "      <td>16884.900</td>\n",
       "    </tr>\n",
       "    <tr>\n",
       "      <th>1</th>\n",
       "      <td>18</td>\n",
       "      <td>male</td>\n",
       "      <td>33.770</td>\n",
       "      <td>1</td>\n",
       "      <td>no</td>\n",
       "      <td>southeast</td>\n",
       "      <td>1725.550</td>\n",
       "    </tr>\n",
       "    <tr>\n",
       "      <th>2</th>\n",
       "      <td>28</td>\n",
       "      <td>male</td>\n",
       "      <td>33.000</td>\n",
       "      <td>3</td>\n",
       "      <td>no</td>\n",
       "      <td>southeast</td>\n",
       "      <td>4449.460</td>\n",
       "    </tr>\n",
       "    <tr>\n",
       "      <th>3</th>\n",
       "      <td>33</td>\n",
       "      <td>male</td>\n",
       "      <td>22.705</td>\n",
       "      <td>0</td>\n",
       "      <td>no</td>\n",
       "      <td>northwest</td>\n",
       "      <td>21984.500</td>\n",
       "    </tr>\n",
       "    <tr>\n",
       "      <th>4</th>\n",
       "      <td>32</td>\n",
       "      <td>male</td>\n",
       "      <td>28.880</td>\n",
       "      <td>0</td>\n",
       "      <td>no</td>\n",
       "      <td>northwest</td>\n",
       "      <td>3866.860</td>\n",
       "    </tr>\n",
       "  </tbody>\n",
       "</table>\n",
       "</div>"
      ],
      "text/plain": [
       "   age     sex    bmi  children smoker     region   charges\n",
       "0   19  female 27.900         0    yes  southwest 16884.900\n",
       "1   18    male 33.770         1     no  southeast  1725.550\n",
       "2   28    male 33.000         3     no  southeast  4449.460\n",
       "3   33    male 22.705         0     no  northwest 21984.500\n",
       "4   32    male 28.880         0     no  northwest  3866.860"
      ]
     },
     "execution_count": 100,
     "metadata": {},
     "output_type": "execute_result"
    }
   ],
   "source": [
    "md_df.head()"
   ]
  },
  {
   "cell_type": "code",
   "execution_count": 101,
   "metadata": {},
   "outputs": [
    {
     "data": {
      "text/html": [
       "<div>\n",
       "<style scoped>\n",
       "    .dataframe tbody tr th:only-of-type {\n",
       "        vertical-align: middle;\n",
       "    }\n",
       "\n",
       "    .dataframe tbody tr th {\n",
       "        vertical-align: top;\n",
       "    }\n",
       "\n",
       "    .dataframe thead th {\n",
       "        text-align: right;\n",
       "    }\n",
       "</style>\n",
       "<table border=\"1\" class=\"dataframe\">\n",
       "  <thead>\n",
       "    <tr style=\"text-align: right;\">\n",
       "      <th></th>\n",
       "      <th>Total</th>\n",
       "      <th>Percent</th>\n",
       "    </tr>\n",
       "  </thead>\n",
       "  <tbody>\n",
       "    <tr>\n",
       "      <th>charges</th>\n",
       "      <td>0</td>\n",
       "      <td>0.000</td>\n",
       "    </tr>\n",
       "    <tr>\n",
       "      <th>region</th>\n",
       "      <td>0</td>\n",
       "      <td>0.000</td>\n",
       "    </tr>\n",
       "    <tr>\n",
       "      <th>smoker</th>\n",
       "      <td>0</td>\n",
       "      <td>0.000</td>\n",
       "    </tr>\n",
       "    <tr>\n",
       "      <th>children</th>\n",
       "      <td>0</td>\n",
       "      <td>0.000</td>\n",
       "    </tr>\n",
       "    <tr>\n",
       "      <th>bmi</th>\n",
       "      <td>0</td>\n",
       "      <td>0.000</td>\n",
       "    </tr>\n",
       "    <tr>\n",
       "      <th>sex</th>\n",
       "      <td>0</td>\n",
       "      <td>0.000</td>\n",
       "    </tr>\n",
       "    <tr>\n",
       "      <th>age</th>\n",
       "      <td>0</td>\n",
       "      <td>0.000</td>\n",
       "    </tr>\n",
       "  </tbody>\n",
       "</table>\n",
       "</div>"
      ],
      "text/plain": [
       "          Total  Percent\n",
       "charges       0    0.000\n",
       "region        0    0.000\n",
       "smoker        0    0.000\n",
       "children      0    0.000\n",
       "bmi           0    0.000\n",
       "sex           0    0.000\n",
       "age           0    0.000"
      ]
     },
     "execution_count": 101,
     "metadata": {},
     "output_type": "execute_result"
    }
   ],
   "source": [
    "total_missing = md_df.isnull().sum().sort_values(ascending=False)\n",
    "percent_missing = (md_df.isnull().sum()/md_df.isnull().count()).sort_values(ascending=False)\n",
    "missing_data = pd.concat([total_missing, percent_missing], axis=1, keys=['Total', 'Percent'])\n",
    "missing_data.head(10)"
   ]
  },
  {
   "cell_type": "code",
   "execution_count": 102,
   "metadata": {},
   "outputs": [],
   "source": [
    "# no missing values"
   ]
  },
  {
   "cell_type": "code",
   "execution_count": 103,
   "metadata": {},
   "outputs": [],
   "source": [
    "# in the past, we used is_male & is_smoker as features"
   ]
  },
  {
   "cell_type": "code",
   "execution_count": 104,
   "metadata": {},
   "outputs": [],
   "source": [
    "md_df[\"is_male\"]= pd.get_dummies(md_df.sex, drop_first = True)\n",
    "md_df[\"is_smoker\"]= pd.get_dummies(md_df.smoker, drop_first = True)"
   ]
  },
  {
   "cell_type": "code",
   "execution_count": 105,
   "metadata": {},
   "outputs": [
    {
     "name": "stdout",
     "output_type": "stream",
     "text": [
      "0       0\n",
      "1       1\n",
      "2       1\n",
      "3       1\n",
      "4       1\n",
      "       ..\n",
      "1333    1\n",
      "1334    0\n",
      "1335    0\n",
      "1336    0\n",
      "1337    0\n",
      "Name: is_male, Length: 1338, dtype: uint8\n"
     ]
    }
   ],
   "source": [
    "print(md_df[\"is_male\"])"
   ]
  },
  {
   "cell_type": "code",
   "execution_count": 106,
   "metadata": {},
   "outputs": [
    {
     "name": "stdout",
     "output_type": "stream",
     "text": [
      "0       1\n",
      "1       0\n",
      "2       0\n",
      "3       0\n",
      "4       0\n",
      "       ..\n",
      "1333    0\n",
      "1334    0\n",
      "1335    0\n",
      "1336    0\n",
      "1337    1\n",
      "Name: is_smoker, Length: 1338, dtype: uint8\n"
     ]
    }
   ],
   "source": [
    "print(md_df[\"is_smoker\"])"
   ]
  },
  {
   "cell_type": "code",
   "execution_count": 107,
   "metadata": {},
   "outputs": [
    {
     "data": {
      "text/plain": [
       "(1338, 9)"
      ]
     },
     "execution_count": 107,
     "metadata": {},
     "output_type": "execute_result"
    }
   ],
   "source": [
    "md_df.shape"
   ]
  },
  {
   "cell_type": "code",
   "execution_count": 108,
   "metadata": {},
   "outputs": [
    {
     "data": {
      "text/html": [
       "<div>\n",
       "<style scoped>\n",
       "    .dataframe tbody tr th:only-of-type {\n",
       "        vertical-align: middle;\n",
       "    }\n",
       "\n",
       "    .dataframe tbody tr th {\n",
       "        vertical-align: top;\n",
       "    }\n",
       "\n",
       "    .dataframe thead th {\n",
       "        text-align: right;\n",
       "    }\n",
       "</style>\n",
       "<table border=\"1\" class=\"dataframe\">\n",
       "  <thead>\n",
       "    <tr style=\"text-align: right;\">\n",
       "      <th></th>\n",
       "      <th>age</th>\n",
       "      <th>sex</th>\n",
       "      <th>bmi</th>\n",
       "      <th>children</th>\n",
       "      <th>smoker</th>\n",
       "      <th>region</th>\n",
       "      <th>charges</th>\n",
       "      <th>is_male</th>\n",
       "      <th>is_smoker</th>\n",
       "    </tr>\n",
       "  </thead>\n",
       "  <tbody>\n",
       "    <tr>\n",
       "      <th>0</th>\n",
       "      <td>19</td>\n",
       "      <td>female</td>\n",
       "      <td>27.900</td>\n",
       "      <td>0</td>\n",
       "      <td>yes</td>\n",
       "      <td>southwest</td>\n",
       "      <td>16884.900</td>\n",
       "      <td>0</td>\n",
       "      <td>1</td>\n",
       "    </tr>\n",
       "    <tr>\n",
       "      <th>1</th>\n",
       "      <td>18</td>\n",
       "      <td>male</td>\n",
       "      <td>33.770</td>\n",
       "      <td>1</td>\n",
       "      <td>no</td>\n",
       "      <td>southeast</td>\n",
       "      <td>1725.550</td>\n",
       "      <td>1</td>\n",
       "      <td>0</td>\n",
       "    </tr>\n",
       "    <tr>\n",
       "      <th>2</th>\n",
       "      <td>28</td>\n",
       "      <td>male</td>\n",
       "      <td>33.000</td>\n",
       "      <td>3</td>\n",
       "      <td>no</td>\n",
       "      <td>southeast</td>\n",
       "      <td>4449.460</td>\n",
       "      <td>1</td>\n",
       "      <td>0</td>\n",
       "    </tr>\n",
       "    <tr>\n",
       "      <th>3</th>\n",
       "      <td>33</td>\n",
       "      <td>male</td>\n",
       "      <td>22.705</td>\n",
       "      <td>0</td>\n",
       "      <td>no</td>\n",
       "      <td>northwest</td>\n",
       "      <td>21984.500</td>\n",
       "      <td>1</td>\n",
       "      <td>0</td>\n",
       "    </tr>\n",
       "    <tr>\n",
       "      <th>4</th>\n",
       "      <td>32</td>\n",
       "      <td>male</td>\n",
       "      <td>28.880</td>\n",
       "      <td>0</td>\n",
       "      <td>no</td>\n",
       "      <td>northwest</td>\n",
       "      <td>3866.860</td>\n",
       "      <td>1</td>\n",
       "      <td>0</td>\n",
       "    </tr>\n",
       "  </tbody>\n",
       "</table>\n",
       "</div>"
      ],
      "text/plain": [
       "   age     sex    bmi  children smoker     region   charges  is_male  \\\n",
       "0   19  female 27.900         0    yes  southwest 16884.900        0   \n",
       "1   18    male 33.770         1     no  southeast  1725.550        1   \n",
       "2   28    male 33.000         3     no  southeast  4449.460        1   \n",
       "3   33    male 22.705         0     no  northwest 21984.500        1   \n",
       "4   32    male 28.880         0     no  northwest  3866.860        1   \n",
       "\n",
       "   is_smoker  \n",
       "0          1  \n",
       "1          0  \n",
       "2          0  \n",
       "3          0  \n",
       "4          0  "
      ]
     },
     "execution_count": 108,
     "metadata": {},
     "output_type": "execute_result"
    }
   ],
   "source": [
    "md_df.head()"
   ]
  },
  {
   "cell_type": "code",
   "execution_count": 109,
   "metadata": {},
   "outputs": [],
   "source": [
    "# Implementation Process\n",
    "# Separate the target variable\n",
    "#X = md_df.values[:,8:9]\n",
    "#Y = md_df.values[:,0]\n",
    "X = md_df[[\"is_male\", \"is_smoker\"]]\n",
    "Y = md_df[[\"charges\"]]"
   ]
  },
  {
   "cell_type": "code",
   "execution_count": 110,
   "metadata": {},
   "outputs": [],
   "source": [
    "# Split the dataset into Test & Train\n",
    "X_train, X_test, y_train, y_test = train_test_split(X,Y, test_size = 0.3, random_state = 100)"
   ]
  },
  {
   "cell_type": "code",
   "execution_count": 111,
   "metadata": {},
   "outputs": [
    {
     "data": {
      "text/plain": [
       "DecisionTreeRegressor(criterion='mse', max_depth=3, max_features=None,\n",
       "                      max_leaf_nodes=None, min_impurity_decrease=0.0,\n",
       "                      min_impurity_split=None, min_samples_leaf=5,\n",
       "                      min_samples_split=2, min_weight_fraction_leaf=0.0,\n",
       "                      presort=False, random_state=100, splitter='best')"
      ]
     },
     "execution_count": 111,
     "metadata": {},
     "output_type": "execute_result"
    }
   ],
   "source": [
    "# Function to perform training \n",
    "#clf_entropy = DecisionTreeRegressor(criterion='entropy', random_state = 100, max_depth=3,min_samples_leaf=5)\n",
    "clf = DecisionTreeRegressor( random_state = 100, max_depth=3, min_samples_leaf=5)\n",
    "clf.fit(X_train,y_train)"
   ]
  },
  {
   "cell_type": "code",
   "execution_count": 113,
   "metadata": {},
   "outputs": [
    {
     "name": "stdout",
     "output_type": "stream",
     "text": [
      "[ 8199.28903846  8805.72638462  8805.72638462  8805.72638462\n",
      " 34152.04803922 30301.40375     8199.28903846  8199.28903846\n",
      " 34152.04803922  8199.28903846  8199.28903846  8805.72638462\n",
      "  8199.28903846  8199.28903846  8199.28903846 34152.04803922\n",
      "  8805.72638462  8805.72638462  8199.28903846  8199.28903846\n",
      "  8199.28903846  8199.28903846  8199.28903846 34152.04803922\n",
      "  8805.72638462 30301.40375     8199.28903846 30301.40375\n",
      " 30301.40375     8805.72638462  8805.72638462  8805.72638462\n",
      " 30301.40375    34152.04803922  8199.28903846  8199.28903846\n",
      "  8199.28903846 34152.04803922  8199.28903846 30301.40375\n",
      "  8805.72638462  8805.72638462  8199.28903846  8805.72638462\n",
      "  8805.72638462  8805.72638462  8805.72638462  8199.28903846\n",
      "  8199.28903846  8805.72638462  8199.28903846  8805.72638462\n",
      "  8199.28903846  8199.28903846  8805.72638462  8805.72638462\n",
      "  8199.28903846 34152.04803922  8805.72638462  8199.28903846\n",
      "  8805.72638462  8805.72638462  8199.28903846  8805.72638462\n",
      "  8199.28903846  8805.72638462  8805.72638462  8805.72638462\n",
      "  8199.28903846 30301.40375     8805.72638462  8805.72638462\n",
      "  8199.28903846 34152.04803922  8805.72638462  8199.28903846\n",
      "  8199.28903846 30301.40375     8199.28903846  8805.72638462\n",
      "  8199.28903846  8199.28903846  8805.72638462  8805.72638462\n",
      " 34152.04803922 30301.40375     8199.28903846 30301.40375\n",
      " 34152.04803922  8805.72638462 34152.04803922  8805.72638462\n",
      "  8805.72638462  8199.28903846 30301.40375     8199.28903846\n",
      "  8199.28903846  8805.72638462 30301.40375     8199.28903846\n",
      "  8199.28903846  8805.72638462  8199.28903846  8199.28903846\n",
      " 34152.04803922  8805.72638462 34152.04803922 30301.40375\n",
      "  8199.28903846  8199.28903846  8805.72638462  8199.28903846\n",
      "  8805.72638462  8199.28903846 34152.04803922  8199.28903846\n",
      "  8199.28903846  8199.28903846  8805.72638462  8805.72638462\n",
      " 34152.04803922  8199.28903846  8805.72638462  8199.28903846\n",
      "  8199.28903846 34152.04803922  8199.28903846  8805.72638462\n",
      "  8199.28903846  8805.72638462  8805.72638462  8805.72638462\n",
      "  8199.28903846  8805.72638462  8199.28903846 34152.04803922\n",
      "  8805.72638462 34152.04803922  8199.28903846  8199.28903846\n",
      " 34152.04803922  8199.28903846 34152.04803922  8805.72638462\n",
      "  8199.28903846  8199.28903846  8199.28903846  8199.28903846\n",
      "  8199.28903846  8805.72638462  8805.72638462  8805.72638462\n",
      "  8805.72638462  8199.28903846  8805.72638462  8805.72638462\n",
      " 34152.04803922  8805.72638462  8805.72638462 34152.04803922\n",
      "  8199.28903846 34152.04803922 34152.04803922  8199.28903846\n",
      "  8805.72638462  8199.28903846  8199.28903846  8199.28903846\n",
      "  8805.72638462  8805.72638462 34152.04803922 30301.40375\n",
      "  8805.72638462 34152.04803922  8199.28903846  8805.72638462\n",
      "  8199.28903846 34152.04803922  8805.72638462  8805.72638462\n",
      " 30301.40375    30301.40375    34152.04803922  8199.28903846\n",
      "  8199.28903846 34152.04803922 34152.04803922  8199.28903846\n",
      "  8199.28903846  8805.72638462  8199.28903846  8805.72638462\n",
      "  8805.72638462  8199.28903846  8199.28903846  8805.72638462\n",
      " 30301.40375    34152.04803922  8199.28903846  8199.28903846\n",
      "  8199.28903846  8199.28903846  8199.28903846  8805.72638462\n",
      " 34152.04803922 34152.04803922  8805.72638462 34152.04803922\n",
      "  8805.72638462 30301.40375     8805.72638462  8199.28903846\n",
      " 34152.04803922 30301.40375     8199.28903846  8805.72638462\n",
      "  8199.28903846  8199.28903846  8199.28903846  8805.72638462\n",
      "  8805.72638462  8805.72638462  8199.28903846  8805.72638462\n",
      "  8805.72638462 34152.04803922  8805.72638462  8199.28903846\n",
      "  8805.72638462  8199.28903846  8805.72638462 34152.04803922\n",
      " 34152.04803922  8805.72638462  8199.28903846 30301.40375\n",
      "  8805.72638462  8199.28903846  8805.72638462  8199.28903846\n",
      "  8199.28903846  8805.72638462  8805.72638462 34152.04803922\n",
      "  8805.72638462  8805.72638462  8199.28903846  8805.72638462\n",
      "  8199.28903846  8199.28903846  8805.72638462  8805.72638462\n",
      "  8805.72638462  8199.28903846  8805.72638462 30301.40375\n",
      "  8199.28903846  8805.72638462 34152.04803922  8199.28903846\n",
      "  8805.72638462 34152.04803922  8805.72638462  8199.28903846\n",
      " 30301.40375     8805.72638462  8805.72638462  8199.28903846\n",
      " 30301.40375     8805.72638462  8805.72638462  8805.72638462\n",
      "  8805.72638462  8805.72638462 34152.04803922  8805.72638462\n",
      "  8805.72638462  8199.28903846 34152.04803922  8805.72638462\n",
      "  8199.28903846  8199.28903846  8805.72638462  8199.28903846\n",
      "  8805.72638462 34152.04803922  8805.72638462  8805.72638462\n",
      "  8199.28903846  8805.72638462  8805.72638462  8805.72638462\n",
      "  8199.28903846  8199.28903846  8199.28903846  8199.28903846\n",
      "  8805.72638462  8805.72638462  8805.72638462 34152.04803922\n",
      "  8805.72638462  8199.28903846  8805.72638462  8199.28903846\n",
      "  8199.28903846 34152.04803922  8805.72638462  8199.28903846\n",
      "  8199.28903846 34152.04803922  8199.28903846 30301.40375\n",
      "  8805.72638462  8199.28903846  8805.72638462  8805.72638462\n",
      " 34152.04803922  8805.72638462  8805.72638462  8199.28903846\n",
      "  8199.28903846 34152.04803922  8805.72638462 34152.04803922\n",
      "  8199.28903846  8199.28903846 30301.40375     8805.72638462\n",
      " 30301.40375     8805.72638462  8199.28903846  8805.72638462\n",
      " 30301.40375     8199.28903846  8199.28903846  8805.72638462\n",
      "  8199.28903846  8199.28903846  8199.28903846 30301.40375\n",
      "  8199.28903846  8805.72638462  8805.72638462  8805.72638462\n",
      " 30301.40375     8805.72638462  8805.72638462  8805.72638462\n",
      "  8805.72638462  8805.72638462  8199.28903846  8805.72638462\n",
      "  8199.28903846  8805.72638462  8805.72638462 30301.40375\n",
      "  8199.28903846 34152.04803922  8199.28903846  8805.72638462\n",
      " 30301.40375    30301.40375     8199.28903846 30301.40375\n",
      "  8199.28903846  8805.72638462  8805.72638462  8199.28903846\n",
      "  8805.72638462  8199.28903846 34152.04803922  8199.28903846\n",
      " 34152.04803922  8805.72638462  8199.28903846  8199.28903846\n",
      "  8805.72638462  8199.28903846 34152.04803922  8199.28903846\n",
      " 34152.04803922  8199.28903846  8199.28903846  8805.72638462\n",
      "  8199.28903846  8805.72638462 34152.04803922  8805.72638462\n",
      "  8199.28903846 34152.04803922  8805.72638462  8805.72638462\n",
      " 30301.40375     8199.28903846  8805.72638462  8805.72638462\n",
      " 30301.40375     8199.28903846  8199.28903846  8805.72638462\n",
      "  8199.28903846  8805.72638462]\n"
     ]
    }
   ],
   "source": [
    "# Lets apply our prediction to above model\n",
    "y_pred = clf.predict(X_test)\n",
    "print(y_pred)"
   ]
  },
  {
   "cell_type": "code",
   "execution_count": 114,
   "metadata": {},
   "outputs": [
    {
     "data": {
      "text/html": [
       "<div>\n",
       "<style scoped>\n",
       "    .dataframe tbody tr th:only-of-type {\n",
       "        vertical-align: middle;\n",
       "    }\n",
       "\n",
       "    .dataframe tbody tr th {\n",
       "        vertical-align: top;\n",
       "    }\n",
       "\n",
       "    .dataframe thead th {\n",
       "        text-align: right;\n",
       "    }\n",
       "</style>\n",
       "<table border=\"1\" class=\"dataframe\">\n",
       "  <thead>\n",
       "    <tr style=\"text-align: right;\">\n",
       "      <th></th>\n",
       "      <th>charges</th>\n",
       "    </tr>\n",
       "  </thead>\n",
       "  <tbody>\n",
       "    <tr>\n",
       "      <th>12</th>\n",
       "      <td>1826.840</td>\n",
       "    </tr>\n",
       "    <tr>\n",
       "      <th>306</th>\n",
       "      <td>20177.700</td>\n",
       "    </tr>\n",
       "    <tr>\n",
       "      <th>318</th>\n",
       "      <td>7421.190</td>\n",
       "    </tr>\n",
       "    <tr>\n",
       "      <th>815</th>\n",
       "      <td>1877.930</td>\n",
       "    </tr>\n",
       "    <tr>\n",
       "      <th>157</th>\n",
       "      <td>15518.200</td>\n",
       "    </tr>\n",
       "  </tbody>\n",
       "</table>\n",
       "</div>"
      ],
      "text/plain": [
       "      charges\n",
       "12   1826.840\n",
       "306 20177.700\n",
       "318  7421.190\n",
       "815  1877.930\n",
       "157 15518.200"
      ]
     },
     "execution_count": 114,
     "metadata": {},
     "output_type": "execute_result"
    }
   ],
   "source": [
    "y_test.head()"
   ]
  },
  {
   "cell_type": "code",
   "execution_count": 115,
   "metadata": {},
   "outputs": [
    {
     "data": {
      "text/plain": [
       "402"
      ]
     },
     "execution_count": 115,
     "metadata": {},
     "output_type": "execute_result"
    }
   ],
   "source": [
    "y_pred.size"
   ]
  },
  {
   "cell_type": "code",
   "execution_count": 116,
   "metadata": {},
   "outputs": [
    {
     "ename": "ValueError",
     "evalue": "continuous is not supported",
     "output_type": "error",
     "traceback": [
      "\u001b[1;31m---------------------------------------------------------------------------\u001b[0m",
      "\u001b[1;31mValueError\u001b[0m                                Traceback (most recent call last)",
      "\u001b[1;32m<ipython-input-116-bff197beaa2d>\u001b[0m in \u001b[0;36m<module>\u001b[1;34m\u001b[0m\n\u001b[0;32m      1\u001b[0m \u001b[1;31m# Checking accuracy\u001b[0m\u001b[1;33m\u001b[0m\u001b[1;33m\u001b[0m\u001b[1;33m\u001b[0m\u001b[0m\n\u001b[1;32m----> 2\u001b[1;33m \u001b[0mprint\u001b[0m\u001b[1;33m(\u001b[0m\u001b[1;34m\"Accuracy is \"\u001b[0m \u001b[1;33m,\u001b[0m \u001b[0maccuracy_score\u001b[0m\u001b[1;33m(\u001b[0m\u001b[0my_test\u001b[0m\u001b[1;33m,\u001b[0m \u001b[0my_pred\u001b[0m\u001b[1;33m)\u001b[0m\u001b[1;33m*\u001b[0m \u001b[1;36m100\u001b[0m\u001b[1;33m)\u001b[0m\u001b[1;33m\u001b[0m\u001b[1;33m\u001b[0m\u001b[0m\n\u001b[0m",
      "\u001b[1;32mc:\\python\\lib\\site-packages\\sklearn\\metrics\\classification.py\u001b[0m in \u001b[0;36maccuracy_score\u001b[1;34m(y_true, y_pred, normalize, sample_weight)\u001b[0m\n\u001b[0;32m    174\u001b[0m \u001b[1;33m\u001b[0m\u001b[0m\n\u001b[0;32m    175\u001b[0m     \u001b[1;31m# Compute accuracy for each possible representation\u001b[0m\u001b[1;33m\u001b[0m\u001b[1;33m\u001b[0m\u001b[1;33m\u001b[0m\u001b[0m\n\u001b[1;32m--> 176\u001b[1;33m     \u001b[0my_type\u001b[0m\u001b[1;33m,\u001b[0m \u001b[0my_true\u001b[0m\u001b[1;33m,\u001b[0m \u001b[0my_pred\u001b[0m \u001b[1;33m=\u001b[0m \u001b[0m_check_targets\u001b[0m\u001b[1;33m(\u001b[0m\u001b[0my_true\u001b[0m\u001b[1;33m,\u001b[0m \u001b[0my_pred\u001b[0m\u001b[1;33m)\u001b[0m\u001b[1;33m\u001b[0m\u001b[1;33m\u001b[0m\u001b[0m\n\u001b[0m\u001b[0;32m    177\u001b[0m     \u001b[0mcheck_consistent_length\u001b[0m\u001b[1;33m(\u001b[0m\u001b[0my_true\u001b[0m\u001b[1;33m,\u001b[0m \u001b[0my_pred\u001b[0m\u001b[1;33m,\u001b[0m \u001b[0msample_weight\u001b[0m\u001b[1;33m)\u001b[0m\u001b[1;33m\u001b[0m\u001b[1;33m\u001b[0m\u001b[0m\n\u001b[0;32m    178\u001b[0m     \u001b[1;32mif\u001b[0m \u001b[0my_type\u001b[0m\u001b[1;33m.\u001b[0m\u001b[0mstartswith\u001b[0m\u001b[1;33m(\u001b[0m\u001b[1;34m'multilabel'\u001b[0m\u001b[1;33m)\u001b[0m\u001b[1;33m:\u001b[0m\u001b[1;33m\u001b[0m\u001b[1;33m\u001b[0m\u001b[0m\n",
      "\u001b[1;32mc:\\python\\lib\\site-packages\\sklearn\\metrics\\classification.py\u001b[0m in \u001b[0;36m_check_targets\u001b[1;34m(y_true, y_pred)\u001b[0m\n\u001b[0;32m     86\u001b[0m     \u001b[1;31m# No metrics support \"multiclass-multioutput\" format\u001b[0m\u001b[1;33m\u001b[0m\u001b[1;33m\u001b[0m\u001b[1;33m\u001b[0m\u001b[0m\n\u001b[0;32m     87\u001b[0m     \u001b[1;32mif\u001b[0m \u001b[1;33m(\u001b[0m\u001b[0my_type\u001b[0m \u001b[1;32mnot\u001b[0m \u001b[1;32min\u001b[0m \u001b[1;33m[\u001b[0m\u001b[1;34m\"binary\"\u001b[0m\u001b[1;33m,\u001b[0m \u001b[1;34m\"multiclass\"\u001b[0m\u001b[1;33m,\u001b[0m \u001b[1;34m\"multilabel-indicator\"\u001b[0m\u001b[1;33m]\u001b[0m\u001b[1;33m)\u001b[0m\u001b[1;33m:\u001b[0m\u001b[1;33m\u001b[0m\u001b[1;33m\u001b[0m\u001b[0m\n\u001b[1;32m---> 88\u001b[1;33m         \u001b[1;32mraise\u001b[0m \u001b[0mValueError\u001b[0m\u001b[1;33m(\u001b[0m\u001b[1;34m\"{0} is not supported\"\u001b[0m\u001b[1;33m.\u001b[0m\u001b[0mformat\u001b[0m\u001b[1;33m(\u001b[0m\u001b[0my_type\u001b[0m\u001b[1;33m)\u001b[0m\u001b[1;33m)\u001b[0m\u001b[1;33m\u001b[0m\u001b[1;33m\u001b[0m\u001b[0m\n\u001b[0m\u001b[0;32m     89\u001b[0m \u001b[1;33m\u001b[0m\u001b[0m\n\u001b[0;32m     90\u001b[0m     \u001b[1;32mif\u001b[0m \u001b[0my_type\u001b[0m \u001b[1;32min\u001b[0m \u001b[1;33m[\u001b[0m\u001b[1;34m\"binary\"\u001b[0m\u001b[1;33m,\u001b[0m \u001b[1;34m\"multiclass\"\u001b[0m\u001b[1;33m]\u001b[0m\u001b[1;33m:\u001b[0m\u001b[1;33m\u001b[0m\u001b[1;33m\u001b[0m\u001b[0m\n",
      "\u001b[1;31mValueError\u001b[0m: continuous is not supported"
     ]
    }
   ],
   "source": [
    "# Checking accuracy\n",
    "print(\"Accuracy is \" , accuracy_score(y_test, y_pred)* 100)"
   ]
  },
  {
   "cell_type": "code",
   "execution_count": null,
   "metadata": {},
   "outputs": [],
   "source": []
  }
 ],
 "metadata": {
  "kernelspec": {
   "display_name": "Python 3",
   "language": "python",
   "name": "python3"
  },
  "language_info": {
   "codemirror_mode": {
    "name": "ipython",
    "version": 3
   },
   "file_extension": ".py",
   "mimetype": "text/x-python",
   "name": "python",
   "nbconvert_exporter": "python",
   "pygments_lexer": "ipython3",
   "version": "3.7.4"
  }
 },
 "nbformat": 4,
 "nbformat_minor": 2
}
